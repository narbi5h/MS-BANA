{
 "cells": [
  {
   "cell_type": "code",
   "execution_count": 3,
   "metadata": {},
   "outputs": [
    {
     "name": "stdout",
     "output_type": "stream",
     "text": [
      "True\n"
     ]
    }
   ],
   "source": [
    "import numpy as np\n",
    "import pandas as pd\n",
    "\n",
    "\n",
    "def is_going_backwards(lat1, lon1, lat2, lon2, lat3, lon3):\n",
    "    # Convert degrees to radians\n",
    "    lat1, lon1 = np.radians(lat1), np.radians(lon1)\n",
    "    lat2, lon2 = np.radians(lat2), np.radians(lon2)\n",
    "    lat3, lon3 = np.radians(lat3), np.radians(lon3)\n",
    "    \n",
    "    # Convert spherical coordinates to Cartesian coordinates\n",
    "    def spherical_to_cartesian(lat, lon):\n",
    "        x = np.cos(lat) * np.cos(lon)\n",
    "        y = np.cos(lat) * np.sin(lon)\n",
    "        z = np.sin(lat)\n",
    "        return np.array([x, y, z])\n",
    "    \n",
    "    p1 = spherical_to_cartesian(lat1, lon1)\n",
    "    p2 = spherical_to_cartesian(lat2, lon2)\n",
    "    p3 = spherical_to_cartesian(lat3, lon3)\n",
    "    \n",
    "    # Calculate vectors\n",
    "    v1 = p2 - p1\n",
    "    v2 = p3 - p2\n",
    "    \n",
    "    # Calculate dot product\n",
    "    dot_product = np.dot(v1, v2)\n",
    "    \n",
    "    # If dot product is negative, the angle between vectors is greater than 90 degrees\n",
    "    return dot_product < 0\n",
    "\n",
    "# Example usage\n",
    "# Coordinates for the airports\n",
    "# Denver International Airport (DEN)\n",
    "lat1, lon1 = 39.8561, -104.6737\n",
    "\n",
    "# George Bush Intercontinental Airport (IAH)\n",
    "lat2, lon2 = 29.9902, -95.3368\n",
    "\n",
    "# Amsterdam Airport Schiphol (AMS)\n",
    "lat3, lon3 = 52.3105, 4.7683\n",
    "\n",
    "print(is_going_backwards(lat1, lon1, lat2, lon2, lat3, lon3))"
   ]
  }
 ],
 "metadata": {
  "kernelspec": {
   "display_name": "Python 3",
   "language": "python",
   "name": "python3"
  },
  "language_info": {
   "codemirror_mode": {
    "name": "ipython",
    "version": 3
   },
   "file_extension": ".py",
   "mimetype": "text/x-python",
   "name": "python",
   "nbconvert_exporter": "python",
   "pygments_lexer": "ipython3",
   "version": "3.12.6"
  }
 },
 "nbformat": 4,
 "nbformat_minor": 2
}
