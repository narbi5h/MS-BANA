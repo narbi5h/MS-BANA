{
 "cells": [
  {
   "cell_type": "code",
   "execution_count": 2,
   "metadata": {},
   "outputs": [
    {
     "name": "stdout",
     "output_type": "stream",
     "text": [
      "   StudentID     Name    Age  MathScore  EnglishScore  ScienceScore  \\\n",
      "0          1    Alice   20.0       85.0          90.0          88.0   \n",
      "1          2      Bob   21.0       95.0          88.0          90.0   \n",
      "2          3  Charlie   19.0       40.0          50.0           NaN   \n",
      "3          4    David   23.0       78.0           NaN          82.0   \n",
      "4          5      Eve  200.0       88.0          92.0          89.0   \n",
      "5          6    Frank    NaN       72.0          85.0          70.0   \n",
      "6          7    Grace   20.0        NaN          78.0          76.0   \n",
      "7          8   Hannah   21.0       85.0          90.0          95.0   \n",
      "8          9      Ivy   22.0       91.0          80.0          93.0   \n",
      "9         10     Jack   20.0       77.0          75.0          65.0   \n",
      "\n",
      "   Attendance  \n",
      "0        95.0  \n",
      "1         NaN  \n",
      "2        80.0  \n",
      "3        85.0  \n",
      "4        95.0  \n",
      "5        60.0  \n",
      "6        92.0  \n",
      "7        96.0  \n",
      "8        97.0  \n",
      "9        58.0  \n"
     ]
    }
   ],
   "source": [
    "import pandas as pd\n",
    "import seaborn as sns\n",
    "import matplotlib.pyplot as plt\n",
    "\n",
    "df = pd.read_csv('Student_Grades.csv')\n",
    "print(df)\n",
    "skew=df['Attendance'].skew()"
   ]
  },
  {
   "cell_type": "code",
   "execution_count": 4,
   "metadata": {},
   "outputs": [
    {
     "name": "stdout",
     "output_type": "stream",
     "text": [
      "Skewness of the data: -1.1362158080213764\n"
     ]
    }
   ],
   "source": [
    "print('Skewness of the data:',skew)"
   ]
  },
  {
   "cell_type": "code",
   "execution_count": 5,
   "metadata": {},
   "outputs": [
    {
     "data": {
      "text/html": [
       "<div>\n",
       "<style scoped>\n",
       "    .dataframe tbody tr th:only-of-type {\n",
       "        vertical-align: middle;\n",
       "    }\n",
       "\n",
       "    .dataframe tbody tr th {\n",
       "        vertical-align: top;\n",
       "    }\n",
       "\n",
       "    .dataframe thead th {\n",
       "        text-align: right;\n",
       "    }\n",
       "</style>\n",
       "<table border=\"1\" class=\"dataframe\">\n",
       "  <thead>\n",
       "    <tr style=\"text-align: right;\">\n",
       "      <th></th>\n",
       "      <th>StudentID</th>\n",
       "      <th>Age</th>\n",
       "      <th>MathScore</th>\n",
       "      <th>EnglishScore</th>\n",
       "      <th>ScienceScore</th>\n",
       "      <th>Attendance</th>\n",
       "    </tr>\n",
       "  </thead>\n",
       "  <tbody>\n",
       "    <tr>\n",
       "      <th>count</th>\n",
       "      <td>10.00000</td>\n",
       "      <td>9.000000</td>\n",
       "      <td>9.000000</td>\n",
       "      <td>9.000000</td>\n",
       "      <td>9.000000</td>\n",
       "      <td>9.000000</td>\n",
       "    </tr>\n",
       "    <tr>\n",
       "      <th>mean</th>\n",
       "      <td>5.50000</td>\n",
       "      <td>40.666667</td>\n",
       "      <td>79.000000</td>\n",
       "      <td>80.888889</td>\n",
       "      <td>83.111111</td>\n",
       "      <td>84.222222</td>\n",
       "    </tr>\n",
       "    <tr>\n",
       "      <th>std</th>\n",
       "      <td>3.02765</td>\n",
       "      <td>59.762028</td>\n",
       "      <td>16.309506</td>\n",
       "      <td>13.013881</td>\n",
       "      <td>10.588253</td>\n",
       "      <td>15.360483</td>\n",
       "    </tr>\n",
       "    <tr>\n",
       "      <th>min</th>\n",
       "      <td>1.00000</td>\n",
       "      <td>19.000000</td>\n",
       "      <td>40.000000</td>\n",
       "      <td>50.000000</td>\n",
       "      <td>65.000000</td>\n",
       "      <td>58.000000</td>\n",
       "    </tr>\n",
       "    <tr>\n",
       "      <th>25%</th>\n",
       "      <td>3.25000</td>\n",
       "      <td>20.000000</td>\n",
       "      <td>77.000000</td>\n",
       "      <td>78.000000</td>\n",
       "      <td>76.000000</td>\n",
       "      <td>80.000000</td>\n",
       "    </tr>\n",
       "    <tr>\n",
       "      <th>50%</th>\n",
       "      <td>5.50000</td>\n",
       "      <td>21.000000</td>\n",
       "      <td>85.000000</td>\n",
       "      <td>85.000000</td>\n",
       "      <td>88.000000</td>\n",
       "      <td>92.000000</td>\n",
       "    </tr>\n",
       "    <tr>\n",
       "      <th>75%</th>\n",
       "      <td>7.75000</td>\n",
       "      <td>22.000000</td>\n",
       "      <td>88.000000</td>\n",
       "      <td>90.000000</td>\n",
       "      <td>90.000000</td>\n",
       "      <td>95.000000</td>\n",
       "    </tr>\n",
       "    <tr>\n",
       "      <th>max</th>\n",
       "      <td>10.00000</td>\n",
       "      <td>200.000000</td>\n",
       "      <td>95.000000</td>\n",
       "      <td>92.000000</td>\n",
       "      <td>95.000000</td>\n",
       "      <td>97.000000</td>\n",
       "    </tr>\n",
       "  </tbody>\n",
       "</table>\n",
       "</div>"
      ],
      "text/plain": [
       "       StudentID         Age  MathScore  EnglishScore  ScienceScore  \\\n",
       "count   10.00000    9.000000   9.000000      9.000000      9.000000   \n",
       "mean     5.50000   40.666667  79.000000     80.888889     83.111111   \n",
       "std      3.02765   59.762028  16.309506     13.013881     10.588253   \n",
       "min      1.00000   19.000000  40.000000     50.000000     65.000000   \n",
       "25%      3.25000   20.000000  77.000000     78.000000     76.000000   \n",
       "50%      5.50000   21.000000  85.000000     85.000000     88.000000   \n",
       "75%      7.75000   22.000000  88.000000     90.000000     90.000000   \n",
       "max     10.00000  200.000000  95.000000     92.000000     95.000000   \n",
       "\n",
       "       Attendance  \n",
       "count    9.000000  \n",
       "mean    84.222222  \n",
       "std     15.360483  \n",
       "min     58.000000  \n",
       "25%     80.000000  \n",
       "50%     92.000000  \n",
       "75%     95.000000  \n",
       "max     97.000000  "
      ]
     },
     "execution_count": 5,
     "metadata": {},
     "output_type": "execute_result"
    }
   ],
   "source": [
    "df.describe()"
   ]
  },
  {
   "cell_type": "code",
   "execution_count": 14,
   "metadata": {},
   "outputs": [
    {
     "data": {
      "image/png": "[encoded data removed]",
      "text/plain": [
       "<Figure size 1000x500 with 1 Axes>"
      ]
     },
     "metadata": {},
     "output_type": "display_data"
    }
   ],
   "source": [
    "#CORRELATION BETWEEN MATH SCORE AND ENGLISH SCORE\n",
    "plt.figure(figsize=(10, 5))\n",
    "sns.scatterplot(data=df,x='Attendance',y='ScienceScore')\n",
    "plt.title('Attendance vs Science Score')\n",
    "plt.show()"
   ]
  },
  {
   "cell_type": "code",
   "execution_count": 3,
   "metadata": {},
   "outputs": [
    {
     "data": {
      "image/png": "[encoded data removed]",
      "text/plain": [
       "<Figure size 1000x500 with 1 Axes>"
      ]
     },
     "metadata": {},
     "output_type": "display_data"
    }
   ],
   "source": [
    "#CORRELATION BETWEEN MATH SCORE AND ENGLISH SCORE\n",
    "plt.figure(figsize=(10, 5))\n",
    "sns.scatterplot(data=df,x='MathScore',y='ScienceScore')\n",
    "plt.title('Math Score vs Science Score')\n",
    "plt.show()"
   ]
  },
  {
   "cell_type": "code",
   "execution_count": 13,
   "metadata": {},
   "outputs": [
    {
     "data": {
      "image/png": "[encoded data removed]",
      "text/plain": [
       "<Figure size 1000x500 with 1 Axes>"
      ]
     },
     "metadata": {},
     "output_type": "display_data"
    }
   ],
   "source": [
    "#CORRELATION BETWEEN MATH SCORE AND ENGLISH SCORE\n",
    "plt.figure(figsize=(10, 5))\n",
    "sns.scatterplot(data=df,x='ScienceScore',y='EnglishScore')\n",
    "plt.title('Science Score vs English Score')\n",
    "plt.show()"
   ]
  },
  {
   "cell_type": "code",
   "execution_count": 12,
   "metadata": {},
   "outputs": [
    {
     "data": {
      "image/png": "[encoded data removed]",
      "text/plain": [
       "<Figure size 1000x500 with 1 Axes>"
      ]
     },
     "metadata": {},
     "output_type": "display_data"
    }
   ],
   "source": [
    "#CORRELATION BETWEEN MATH SCORE AND ENGLISH SCORE\n",
    "plt.figure(figsize=(10, 5))\n",
    "sns.scatterplot(data=df,x='ScienceScore',y='MathScore')\n",
    "plt.title('Science Score vs Math Score')\n",
    "plt.show()"
   ]
  },
  {
   "cell_type": "code",
   "execution_count": 6,
   "metadata": {},
   "outputs": [
    {
     "name": "stdout",
     "output_type": "stream",
     "text": [
      "Median Math Score:  85.0\n",
      "Median English Score:  85.0\n",
      "Median Science Score:  88.0\n",
      "Skewness of Math Score:  -1.9517637833038681\n",
      "Skewness of English Score:  -1.924109796042572\n",
      "Skewness of Science Score:  -0.7121397089533297\n"
     ]
    }
   ],
   "source": [
    "median_math = df['MathScore'].median()\n",
    "median_english=df['EnglishScore'].median()\n",
    "median_science= df['ScienceScore'].median()\n",
    "\n",
    "print(\"Median Math Score: \", median_math)\n",
    "print(\"Median English Score: \", median_english)\n",
    "print(\"Median Science Score: \", median_science)\n",
    "\n",
    "skew_math = df['MathScore'].skew()\n",
    "skew_english = df['EnglishScore'].skew()\n",
    "skew_science = df['ScienceScore'].skew()\n",
    "\n",
    "print(\"Skewness of Math Score: \", skew_math)\n",
    "print(\"Skewness of English Score: \", skew_english)\n",
    "print(\"Skewness of Science Score: \", skew_science)\n",
    "\n"
   ]
  },
  {
   "cell_type": "code",
   "execution_count": 5,
   "metadata": {},
   "outputs": [
    {
     "name": "stdout",
     "output_type": "stream",
     "text": [
      "\n",
      "Outliers detected in Age column (using IQR):\n",
      "   StudentID     Name   Age  MathScore  EnglishScore  ScienceScore  Attendance\n",
      "2          3  Charlie  19.0       40.0          50.0           NaN        80.0\n"
     ]
    }
   ],
   "source": [
    "#DETECT OUTLIERS BASED ON IQR\n",
    "Q1 = df['EnglishScore'].quantile(0.25)\n",
    "Q3 = df['EnglishScore'].quantile(0.75)\n",
    "IQR = Q3 - Q1\n",
    "\n",
    "# Define outlier bounds for english score\n",
    "lower_bound_english = Q1 - 1.5 * IQR\n",
    "upper_bound_english = Q3 + 1.5 * IQR\n",
    "\n",
    "Q1 = df['MathScore'].quantile(0.25)\n",
    "Q3 = df['MathScore'].quantile(0.75)\n",
    "IQR = Q3 - Q1\n",
    "\n",
    "# Define outlier bounds for Math score\n",
    "lower_bound_math = Q1 - 1.5 * IQR\n",
    "upper_bound_math = Q3 + 1.5 * IQR\n",
    "\n",
    "# Detect outliers\n",
    "outliers = df[(df['EnglishScore'] < lower_bound_english) | (df['EnglishScore'] > upper_bound_english) | (df['MathScore'] < lower_bound_math) | (df['MathScore'] > upper_bound_math)]\n",
    "\n",
    "print(f\"\\nOutliers detected in Age column (using IQR):\\n{outliers}\")\n"
   ]
  },
  {
   "cell_type": "code",
   "execution_count": 6,
   "metadata": {},
   "outputs": [
    {
     "name": "stdout",
     "output_type": "stream",
     "text": [
      "   StudentID    Name    Age  MathScore  EnglishScore  ScienceScore  Attendance\n",
      "0          1   Alice   20.0       85.0          90.0          88.0        95.0\n",
      "1          2     Bob   21.0       95.0          88.0          90.0         NaN\n",
      "4          5     Eve  200.0       88.0          92.0          89.0        95.0\n",
      "5          6   Frank    NaN       72.0          85.0          70.0        60.0\n",
      "6          7   Grace   20.0        NaN          78.0          76.0        92.0\n",
      "7          8  Hannah   21.0       85.0          90.0          95.0        96.0\n",
      "8          9     Ivy   22.0       91.0          80.0          93.0        97.0\n",
      "9         10    Jack   20.0       77.0          75.0          65.0        58.0\n",
      "Skewness of the data: -1.2028283053059834\n"
     ]
    }
   ],
   "source": [
    "df_no_outliers = df[(df['EnglishScore'] >= lower_bound_english) & (df['EnglishScore'] <= upper_bound_english)]\n",
    "print(df_no_outliers)\n",
    "df_no_outliers.describe()\n",
    "skew=df_no_outliers['Attendance'].skew()\n",
    "print('Skewness of the data:',skew)"
   ]
  },
  {
   "cell_type": "code",
   "execution_count": 7,
   "metadata": {},
   "outputs": [
    {
     "name": "stdout",
     "output_type": "stream",
     "text": [
      "Median Math Score:  85.0\n",
      "Median English Score:  86.5\n",
      "Median Science Score:  88.5\n",
      "Skewness of Math Score:  -0.5342465968682931\n",
      "Skewness of English Score:  -0.47559700545818423\n",
      "Skewness of Science Score:  -0.7413661266837326\n"
     ]
    }
   ],
   "source": [
    "#MEDIANS AND SKEWNESS AFTER REMOVING OUTLIERS\n",
    "median_math = df_no_outliers['MathScore'].median()\n",
    "median_english=df_no_outliers['EnglishScore'].median()\n",
    "median_science= df_no_outliers['ScienceScore'].median()\n",
    "\n",
    "print(\"Median Math Score: \", median_math)\n",
    "print(\"Median English Score: \", median_english)\n",
    "print(\"Median Science Score: \", median_science)\n",
    "\n",
    "skew_math = df_no_outliers['MathScore'].skew()\n",
    "skew_english = df_no_outliers['EnglishScore'].skew()\n",
    "skew_science = df_no_outliers['ScienceScore'].skew()\n",
    "\n",
    "print(\"Skewness of Math Score: \", skew_math)\n",
    "print(\"Skewness of English Score: \", skew_english)\n",
    "print(\"Skewness of Science Score: \", skew_science)\n"
   ]
  },
  {
   "cell_type": "code",
   "execution_count": 9,
   "metadata": {},
   "outputs": [
    {
     "name": "stdout",
     "output_type": "stream",
     "text": [
      "   StudentID    Name    Age  MathScore  EnglishScore  ScienceScore  Attendance\n",
      "0          1   Alice   20.0       85.0          90.0          88.0        95.0\n",
      "1          2     Bob   21.0       95.0          88.0          90.0        95.0\n",
      "4          5     Eve  200.0       88.0          92.0          89.0        95.0\n",
      "5          6   Frank   21.0       72.0          85.0          70.0        60.0\n",
      "6          7   Grace   20.0       85.0          78.0          76.0        92.0\n",
      "7          8  Hannah   21.0       85.0          90.0          95.0        96.0\n",
      "8          9     Ivy   22.0       91.0          80.0          93.0        97.0\n",
      "9         10    Jack   20.0       77.0          75.0          65.0        58.0\n"
     ]
    }
   ],
   "source": [
    "#FILL MEDIAN OF MISSING DATA SINCE SKEWED\n",
    "df_fill_no_outliers=df_no_outliers.fillna(df_no_outliers.median(numeric_only=True))\n",
    "print(df_fill_no_outliers)"
   ]
  },
  {
   "cell_type": "code",
   "execution_count": 30,
   "metadata": {},
   "outputs": [
    {
     "name": "stdout",
     "output_type": "stream",
     "text": [
      "Median Math Score:  85.0\n",
      "Median English Score:  86.5\n",
      "Median Science Score:  88.5\n",
      "Skewness of Math Score:  -0.5688598459989755\n",
      "Skewness of English Score:  -0.47559700545818423\n",
      "Skewness of Science Score:  -0.7413661266837326\n"
     ]
    }
   ],
   "source": [
    "#MEDIANS AND SKEWNESS AFTER FILLING MISSING DATA\n",
    "median_math = df_fill_no_outliers['MathScore'].median()\n",
    "median_english=df_fill_no_outliers['EnglishScore'].median()\n",
    "median_science= df_fill_no_outliers['ScienceScore'].median()\n",
    "\n",
    "print(\"Median Math Score: \", median_math)\n",
    "print(\"Median English Score: \", median_english)\n",
    "print(\"Median Science Score: \", median_science)\n",
    "\n",
    "skew_math = df_fill_no_outliers['MathScore'].skew()\n",
    "skew_english = df_fill_no_outliers['EnglishScore'].skew()\n",
    "skew_science = df_fill_no_outliers['ScienceScore'].skew()\n",
    "\n",
    "print(\"Skewness of Math Score: \", skew_math)\n",
    "print(\"Skewness of English Score: \", skew_english)\n",
    "print(\"Skewness of Science Score: \", skew_science)\n"
   ]
  },
  {
   "cell_type": "code",
   "execution_count": 33,
   "metadata": {},
   "outputs": [
    {
     "data": {
      "text/plain": [
       "np.float64(2.997676665546412)"
      ]
     },
     "execution_count": 33,
     "metadata": {},
     "output_type": "execute_result"
    }
   ],
   "source": [
    "df['Age'].skew()"
   ]
  },
  {
   "cell_type": "code",
   "execution_count": 12,
   "metadata": {},
   "outputs": [
    {
     "name": "stdout",
     "output_type": "stream",
     "text": [
      "   StudentID    Name    Age  MathScore  EnglishScore  ScienceScore  \\\n",
      "0          1   Alice   20.0       85.0          90.0          88.0   \n",
      "1          2     Bob   21.0       95.0          88.0          90.0   \n",
      "4          5     Eve  200.0       88.0          92.0          89.0   \n",
      "5          6   Frank   21.0       72.0          85.0          70.0   \n",
      "6          7   Grace   20.0       85.0          78.0          76.0   \n",
      "7          8  Hannah   21.0       85.0          90.0          95.0   \n",
      "8          9     Ivy   22.0       91.0          80.0          93.0   \n",
      "9         10    Jack   20.0       77.0          75.0          65.0   \n",
      "\n",
      "   Attendance  Age_capped  \n",
      "0        95.0        20.0  \n",
      "1        95.0        21.0  \n",
      "4        95.0        23.0  \n",
      "5        60.0         NaN  \n",
      "6        92.0        20.0  \n",
      "7        96.0        21.0  \n",
      "8        97.0        22.0  \n",
      "9        58.0        20.0  \n"
     ]
    }
   ],
   "source": [
    "#CAPPING THE AGE AND FILLING MISSING DATA FOR AGE AND ATTENDANCE\n",
    "Q1 = df_fill_no_outliers['Age'].quantile(0.25)\n",
    "Q3 = df_fill_no_outliers['Age'].quantile(0.75)\n",
    "IQR = Q3 - Q1\n",
    "\n",
    "# Define outlier bounds\n",
    "lower_bound = (Q1 - 1.5 * IQR).astype(int)\n",
    "upper_bound = (Q3 + 1.5 * IQR).astype(int)\n",
    "\n",
    "df_fill_no_outliers['Age_capped'] = df['Age'].apply(lambda x: upper_bound if x > upper_bound else (lower_bound if x < lower_bound else x))\n",
    "print(df_fill_no_outliers)\n",
    "#df_fill_no_outliers=df_fill_no_outliers.fillna(df_fill_no_outliers.median(numeric_only=True))\n",
    "#median_age=(df['Age_capped'].median())\n",
    "#print(df_fill_no_outliers)"
   ]
  },
  {
   "cell_type": "code",
   "execution_count": 14,
   "metadata": {},
   "outputs": [
    {
     "name": "stdout",
     "output_type": "stream",
     "text": [
      "   StudentID    Name    Age  Age_capped  MathScore  EnglishScore  \\\n",
      "0          1   Alice   20.0        20.0       85.0          90.0   \n",
      "1          2     Bob   21.0        21.0       95.0          88.0   \n",
      "4          5     Eve  200.0        23.0       88.0          92.0   \n",
      "5          6   Frank   21.0        21.0       72.0          85.0   \n",
      "6          7   Grace   20.0        20.0       85.0          78.0   \n",
      "7          8  Hannah   21.0        21.0       85.0          90.0   \n",
      "8          9     Ivy   22.0        22.0       91.0          80.0   \n",
      "9         10    Jack   20.0        20.0       77.0          75.0   \n",
      "\n",
      "   ScienceScore  Attendance  \n",
      "0          88.0        95.0  \n",
      "1          90.0        95.0  \n",
      "4          89.0        95.0  \n",
      "5          70.0        60.0  \n",
      "6          76.0        92.0  \n",
      "7          95.0        96.0  \n",
      "8          93.0        97.0  \n",
      "9          65.0        58.0  \n"
     ]
    }
   ],
   "source": [
    "#CAPPING THE AGE AND FILLING MISSING DATA FOR AGE AND ATTENDANCE\n",
    "Q1 = df_fill_no_outliers['Age'].quantile(0.25)\n",
    "Q3 = df_fill_no_outliers['Age'].quantile(0.75)\n",
    "IQR = Q3 - Q1\n",
    "\n",
    "# Define outlier bounds\n",
    "lower_bound = (Q1 - 1.5 * IQR).astype(int)\n",
    "upper_bound = (Q3 + 1.5 * IQR).astype(int)\n",
    "\n",
    "df_fill_no_outliers['Age_capped'] = df['Age'].apply(lambda x: upper_bound if x > upper_bound else (lower_bound if x < lower_bound else x))\n",
    "df_fill_no_outliers['Age_capped'].skew()\n",
    "df_fill_no_outliers=df_fill_no_outliers.fillna(df_fill_no_outliers.median(numeric_only=True))\n",
    "#median_age=(df['Age_capped'].median())\n",
    "print(df_fill_no_outliers)\n"
   ]
  },
  {
   "cell_type": "code",
   "execution_count": 15,
   "metadata": {},
   "outputs": [
    {
     "name": "stdout",
     "output_type": "stream",
     "text": [
      "   StudentID    Name    Age  Age_capped  MathScore  EnglishScore  \\\n",
      "0          1   Alice   20.0        20.0       85.0          90.0   \n",
      "1          2     Bob   21.0        21.0       95.0          88.0   \n",
      "4          5     Eve  200.0        23.0       88.0          92.0   \n",
      "5          6   Frank   21.0        21.0       72.0          85.0   \n",
      "6          7   Grace   20.0        20.0       85.0          78.0   \n",
      "7          8  Hannah   21.0        21.0       85.0          90.0   \n",
      "8          9     Ivy   22.0        22.0       91.0          80.0   \n",
      "9         10    Jack   20.0        20.0       77.0          75.0   \n",
      "\n",
      "   ScienceScore  Attendance  \n",
      "0          88.0        95.0  \n",
      "1          90.0        95.0  \n",
      "4          89.0        95.0  \n",
      "5          70.0        60.0  \n",
      "6          76.0        92.0  \n",
      "7          95.0        96.0  \n",
      "8          93.0        97.0  \n",
      "9          65.0        58.0  \n"
     ]
    }
   ],
   "source": [
    "#re-arrange columns and print\n",
    "df_fill_no_outliers = df_fill_no_outliers[['StudentID', 'Name', 'Age', 'Age_capped', 'MathScore', 'EnglishScore', 'ScienceScore','Attendance']]\n",
    "print(df_fill_no_outliers)"
   ]
  },
  {
   "cell_type": "code",
   "execution_count": null,
   "metadata": {},
   "outputs": [],
   "source": []
  }
 ],
 "metadata": {
  "kernelspec": {
   "display_name": "Python 3",
   "language": "python",
   "name": "python3"
  },
  "language_info": {
   "codemirror_mode": {
    "name": "ipython",
    "version": 3
   },
   "file_extension": ".py",
   "mimetype": "text/x-python",
   "name": "python",
   "nbconvert_exporter": "python",
   "pygments_lexer": "ipython3",
   "version": "3.12.5"
  }
 },
 "nbformat": 4,
 "nbformat_minor": 2
}
