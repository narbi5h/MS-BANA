{
 "cells": [
  {
   "cell_type": "code",
   "execution_count": 1,
   "metadata": {},
   "outputs": [
    {
     "name": "stdout",
     "output_type": "stream",
     "text": [
      "Best Unique 2-Man Scramble Combinations Based on Highest Handicaps:\n",
      "Vic and Mark Pacis: Handicap = 20.80\n",
      "Aron Bender and Reggie Haggans: Handicap = 17.20\n",
      "Gio Villasenor and Chez Guinto: Handicap = 15.60\n",
      "Ian Calvo and Mark Dela Paz: Handicap = 12.80\n",
      "Anthony Pimentel and Johnathan Fernandez: Handicap = 10.00\n",
      "Yuri Aglubat and Martin Fabros: Handicap = 8.80\n",
      "Jaime Vallejo and Hugo Flores: Handicap = 7.60\n"
     ]
    }
   ],
   "source": [
    "import itertools\n",
    "\n",
    "# Team List of players and their handicaps\n",
    "players = {\n",
    "    \"Gio Villasenor\": 20,\n",
    "    \"Jaime Vallejo\": 8,\n",
    "    \"Anthony Pimentel\": 11,\n",
    "    \"Yuri Aglubat\": 11,\n",
    "    \"Martin Fabros\": 11,\n",
    "    \"Ian Calvo\": 15,\n",
    "    \"Johnathan Fernandez\": 14,\n",
    "    \"Aron Bender\": 22,\n",
    "    \"Mark Dela Paz\": 17,\n",
    "    \"Chez Guinto\": 19,\n",
    "    \"Reggie Haggans\": 21,\n",
    "    \"Vic\": 28,\n",
    "    \"Hugo Flores\": 11,\n",
    "    \"Mark Pacis\": 24\n",
    "}\n",
    "\n",
    "# Function to calculate team handicap\n",
    "def calculate_team_handicap(player1, player2):\n",
    "    avg_handicap = (players[player1] + players[player2]) / 2\n",
    "    team_handicap = avg_handicap * 0.80\n",
    "    return team_handicap\n",
    "\n",
    "# Generate all possible pairs\n",
    "pairs = list(itertools.combinations(players.keys(), 2))\n",
    "\n",
    "# Calculate handicaps for all pairs\n",
    "pair_handicaps = [(pair, calculate_team_handicap(pair[0], pair[1])) for pair in pairs]\n",
    "\n",
    "# Sort pairs by handicap in descending order\n",
    "sorted_pairs = sorted(pair_handicaps, key=lambda x: x[1], reverse=True)\n",
    "\n",
    "# Function to find unique combinations\n",
    "def find_unique_combinations(sorted_pairs):\n",
    "    used_players = set()\n",
    "    unique_combinations = []\n",
    "    for pair, handicap in sorted_pairs:\n",
    "        if pair[0] not in used_players and pair[1] not in used_players:\n",
    "            unique_combinations.append((pair, handicap))\n",
    "            used_players.update(pair)\n",
    "    return unique_combinations\n",
    "\n",
    "# Get unique combinations\n",
    "unique_combinations = find_unique_combinations(sorted_pairs)\n",
    "\n",
    "# Print the best unique combinations\n",
    "print(\"Best Unique 2-Man Scramble Combinations Based on Highest Handicaps:\")\n",
    "for pair, handicap in unique_combinations:\n",
    "    print(f\"{pair[0]} and {pair[1]}: Handicap = {handicap:.2f}\")\n"
   ]
  },
  {
   "cell_type": "code",
   "execution_count": 2,
   "metadata": {},
   "outputs": [
    {
     "name": "stdout",
     "output_type": "stream",
     "text": [
      "Best Unique 2-Man Scramble Combinations:\n",
      "Jaime Vallejo and Anthony Pimentel: Handicap = 7.60\n",
      "Yuri Aglubat and Martin Fabros: Handicap = 8.80\n",
      "Johnathan Fernandez and Hugo Flores: Handicap = 10.00\n",
      "Ian Calvo and Mark Dela Paz: Handicap = 12.80\n",
      "Gio Villasenor and Chez Guinto: Handicap = 15.60\n",
      "Aron Bender and Reggie Haggans: Handicap = 17.20\n",
      "Vic and Mark Pacis: Handicap = 20.80\n"
     ]
    },
    {
     "ename": "",
     "evalue": "",
     "output_type": "error",
     "traceback": [
      "\u001b[1;31mThe Kernel crashed while executing code in the current cell or a previous cell. \n",
      "\u001b[1;31mPlease review the code in the cell(s) to identify a possible cause of the failure. \n",
      "\u001b[1;31mClick <a href='https://aka.ms/vscodeJupyterKernelCrash'>here</a> for more info. \n",
      "\u001b[1;31mView Jupyter <a href='command:jupyter.viewOutput'>log</a> for further details."
     ]
    }
   ],
   "source": [
    "import itertools\n",
    "\n",
    "# List of players and their handicaps\n",
    "players = {\n",
    "    \"Gio Villasenor\": 20,\n",
    "    \"Jaime Vallejo\": 8,\n",
    "    \"Anthony Pimentel\": 11,\n",
    "    \"Yuri Aglubat\": 11,\n",
    "    \"Martin Fabros\": 11,\n",
    "    \"Ian Calvo\": 15,\n",
    "    \"Johnathan Fernandez\": 14,\n",
    "    \"Aron Bender\": 22,\n",
    "    \"Mark Dela Paz\": 17,\n",
    "    \"Chez Guinto\": 19,\n",
    "    \"Reggie Haggans\": 21,\n",
    "    \"Vic\": 28,\n",
    "    \"Hugo Flores\": 11,\n",
    "    \"Mark Pacis\": 24\n",
    "}\n",
    "\n",
    "# Function to calculate team handicap\n",
    "def calculate_team_handicap(player1, player2):\n",
    "    avg_handicap = (players[player1] + players[player2]) / 2\n",
    "    team_handicap = avg_handicap * 0.80\n",
    "    return team_handicap\n",
    "\n",
    "# Generate all possible pairs\n",
    "pairs = list(itertools.combinations(players.keys(), 2))\n",
    "\n",
    "# Calculate handicaps for all pairs\n",
    "pair_handicaps = [(pair, calculate_team_handicap(pair[0], pair[1])) for pair in pairs]\n",
    "\n",
    "# Sort pairs by handicap\n",
    "sorted_pairs = sorted(pair_handicaps, key=lambda x: x[1])\n",
    "\n",
    "# Function to find unique combinations\n",
    "def find_unique_combinations(sorted_pairs):\n",
    "    used_players = set()\n",
    "    unique_combinations = []\n",
    "    for pair, handicap in sorted_pairs:\n",
    "        if pair[0] not in used_players and pair[1] not in used_players:\n",
    "            unique_combinations.append((pair, handicap))\n",
    "            used_players.update(pair)\n",
    "    return unique_combinations\n",
    "\n",
    "# Get unique combinations\n",
    "unique_combinations = find_unique_combinations(sorted_pairs)\n",
    "\n",
    "# Print the best unique combinations\n",
    "print(\"Best Unique 2-Man Scramble Combinations:\")\n",
    "for pair, handicap in unique_combinations:\n",
    "    print(f\"{pair[0]} and {pair[1]}: Handicap = {handicap:.2f}\")\n",
    "\n"
   ]
  },
  {
   "cell_type": "code",
   "execution_count": null,
   "metadata": {},
   "outputs": [],
   "source": []
  }
 ],
 "metadata": {
  "kernelspec": {
   "display_name": "Python 3",
   "language": "python",
   "name": "python3"
  },
  "language_info": {
   "codemirror_mode": {
    "name": "ipython",
    "version": 3
   },
   "file_extension": ".py",
   "mimetype": "text/x-python",
   "name": "python",
   "nbconvert_exporter": "python",
   "pygments_lexer": "ipython3",
   "version": "3.12.5"
  }
 },
 "nbformat": 4,
 "nbformat_minor": 2
}
